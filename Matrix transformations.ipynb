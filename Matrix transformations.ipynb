{
 "cells": [
  {
   "cell_type": "markdown",
   "id": "17916d70-5e3c-48d0-8432-16ebfa16b314",
   "metadata": {},
   "source": [
    "<h1 align=\"center\">Using Matricies as Linear Transformations to Perform Rotations of Images</h1>\n",
    "<h2 align=\"center\">Remi L.</h2>\n",
    "\n",
    "Matrices are powerful tools for representing transformations in mathematics, particularly in geometry. They can be thought of as functions that modify vectors in space, where the vector represents a point or direction. In this case, we will be working with 2D points that represent pixels in an image, though the concept extends to higher dimensions as well. A matrix applied to a vector can perform a variety of operations, such as translating, scaling, or rotating the vector. In linear algebra, these matrices that act as functions are called *transformations*.\n",
    "\n",
    "Some common transformations that can be expressed using matrices include **shear matrices** (which tilt the vector in one direction), **scaling matrices** (which resize the vector by a constant factor), and **rotation matrices** (which rotate the vector around the origin by a specified angle). Each type of transformation affects the components of a vector in predictable ways.\n",
    "\n",
    "In the case of rotation, we want to rotate an $(x, y)$ point around an angle $\\theta$. We may define the transformation as follows:\n",
    "\n",
    "$$\n",
    "T(\\vec{x}) = A\\vec{x} =\n",
    "\\begin{bmatrix}\n",
    "\\cos \\theta & -\\sin \\theta \\\\\n",
    "\\sin \\theta & \\cos \\theta\n",
    "\\end{bmatrix}\\vec{x}$$\n",
    "where $\\vec{x}$ is a vector in $\\mathbb{R}^2$.\n",
    "\n",
    "# Why?\n",
    "\n",
    "Recall that a transformation vector is defined in terms of where the standard basis vectors in that vector space get sent. For a matrix that serves as a transformation for vectors in $\\mathbb{R}^2$, the transformation matrix can be defined generically as: $$\n",
    "\\begin{bmatrix}\n",
    "| & | \\\\\n",
    "T(e_1) & T(e_2) \\\\\n",
    "| & |\n",
    "\\end{bmatrix}\n",
    "$$\n",
    "\n",
    "In this particular case, we are interested in what happens to a vector that gets sent through a transformation that rotates it about an angle $\\theta$. This may be better explained by an example.\n",
    "\n",
    "Consider the standard basis vectors in $\\mathbb{R}^2$:\n",
    "\n",
    "$$A = \\begin{bmatrix}\n",
    "1 & 0 \\\\\n",
    "0 & 1\n",
    "\\end{bmatrix}\n",
    "$$\n",
    "\n",
    "If we are interested in rotating these vectors about the angle $\\theta = \\frac{\\pi}{2}$ (i.e. rotating the standard basis vectors 90°, or $\\frac{\\pi}{2}$ rad), these vectors now become\n",
    "\n",
    "$$A^\\prime = \\begin{bmatrix}\n",
    "0 & -1 \\\\\n",
    "1 & 0\n",
    "\\end{bmatrix}\n",
    "$$\n",
    "\n",
    "The standard basis are sent to $(-1, 0)$ and $(0, 1)$. This defines our transformation since we know exactly where the standard basis vectors are being sent. Looking back at our generic formula from earlier, we set $\\theta = \\frac{\\pi}{2}$:\n",
    "\n",
    "$$\n",
    "A =\n",
    "\\begin{bmatrix}\n",
    "\\cos \\theta & -\\sin \\theta \\\\\n",
    "\\sin \\theta & \\cos \\theta \\\\\n",
    "\\end{bmatrix} = \n",
    "\\begin{bmatrix}\n",
    "\\cos(\\frac{\\pi}{2}) & -\\sin(\\frac{\\pi}{2}) \\\\\n",
    "\\sin(\\frac{\\pi}{2}) & \\cos(\\frac{\\pi}{2}) \\\\\n",
    "\\end{bmatrix} = \n",
    "\\begin{bmatrix}\n",
    "0 & -1 \\\\\n",
    "1 & 0 \\\\\n",
    "\\end{bmatrix} = A^\\prime\n",
    "$$\n",
    "\n",
    "When this transformation matrix is applied to any vector or point in $\\mathbb{R}^2$, it will effectively rotate that vector 90°."
   ]
  },
  {
   "cell_type": "markdown",
   "id": "9645831c-5797-42df-9c41-518b04c1f57a",
   "metadata": {},
   "source": [
    "With the specifics aside, we can now work towards implementing a rotation matrix using Python and some third-party libraries. First we start with installing Pillow which will allow us to access the pixel values of our image:"
   ]
  },
  {
   "cell_type": "code",
   "execution_count": 1,
   "id": "fb9362c3-ab97-4870-8122-d43689e37b6d",
   "metadata": {},
   "outputs": [
    {
     "name": "stdout",
     "output_type": "stream",
     "text": [
      "Requirement already satisfied: pillow in /Library/Frameworks/Python.framework/Versions/3.12/lib/python3.12/site-packages (10.3.0)\n",
      "\n",
      "\u001b[1m[\u001b[0m\u001b[34;49mnotice\u001b[0m\u001b[1;39;49m]\u001b[0m\u001b[39;49m A new release of pip is available: \u001b[0m\u001b[31;49m24.0\u001b[0m\u001b[39;49m -> \u001b[0m\u001b[32;49m24.2\u001b[0m\n",
      "\u001b[1m[\u001b[0m\u001b[34;49mnotice\u001b[0m\u001b[1;39;49m]\u001b[0m\u001b[39;49m To update, run: \u001b[0m\u001b[32;49mpip3 install --upgrade pip\u001b[0m\n",
      "Note: you may need to restart the kernel to use updated packages.\n"
     ]
    }
   ],
   "source": [
    "pip install pillow"
   ]
  },
  {
   "cell_type": "markdown",
   "id": "1c6b81b7-e2b9-4ecc-8a1a-370f42eb26ad",
   "metadata": {},
   "source": [
    "Next, we can import pillow into our project for use. Note that in this case, we import from the PIL package (Python Imaging Library) which comes from installing pillow. \n",
    "\n",
    "We will also need to make use of Python's built-in `math` library, in order to use these trigonometric functions.\n",
    "\n",
    "While we're at it, we'll import the `Image` class. The `Image` class lets us perform specific operations on images (e.g getting pixel values, dimensions, etc.)"
   ]
  },
  {
   "cell_type": "code",
   "execution_count": 2,
   "id": "6340c957-0006-494a-8c43-012d0ba606da",
   "metadata": {},
   "outputs": [],
   "source": [
    "from PIL import Image # Import the Image class from the pillow PIL library\n",
    "import math # Import the math library"
   ]
  },
  {
   "cell_type": "markdown",
   "id": "a6b40a14-0a4a-47cb-ab3c-2f38ca0d045b",
   "metadata": {},
   "source": [
    "Next, let's define a location for our image file: "
   ]
  },
  {
   "cell_type": "code",
   "execution_count": 29,
   "id": "9d8e85ea-d69b-43be-bd3a-328da02edab1",
   "metadata": {},
   "outputs": [],
   "source": [
    "image_path = \"./bocchi.jpg\" # Looks for a file named my_image.png in the current directory"
   ]
  },
  {
   "cell_type": "markdown",
   "id": "42bc175e-1462-4228-aba2-8e95b08683fd",
   "metadata": {},
   "source": [
    "Here we define a few operations for accessing our data:"
   ]
  },
  {
   "cell_type": "code",
   "execution_count": 40,
   "id": "0d55cb7c-30c6-4da8-b8b2-3cefb410e571",
   "metadata": {},
   "outputs": [
    {
     "name": "stdout",
     "output_type": "stream",
     "text": [
      "Width = 736, Height = 717\n"
     ]
    }
   ],
   "source": [
    "image = Image.open(image_path) # Open our image into a pillow image object.\n",
    "image_data = image.load() # This returns data containing our pixels and other information about the image we just loaded.\n",
    "width, height = image.size\n",
    "print(f\"Width = {width}, Height = {height}\")"
   ]
  },
  {
   "cell_type": "markdown",
   "id": "cf6a6bb6-19f1-47f9-9db3-281cc39cf287",
   "metadata": {},
   "source": [
    "This is where it starts to get complicated. It should be noted that for context, we are going to treat each pixel in the image as an $(x, y)$ coordinate pair corresponding to $(row, col)$. Think of the $A_{ij}$ notation for matrix entries. In the realm of computer graphics, this is referred to as _point based rendering_.\n",
    "\n",
    "Here we  define a function that takes in our $(x, y)$ point and spits out its new transformed coordinate. This is essentially a function implementation of our rotation matrix multiplied by the $(x, y)$ vector.\n",
    "\n",
    "A couple of things to note: \n",
    "1. Since these trig functions return a decimal number, we simply round them to the nearest whole number by calling `round()`.\n",
    "\n",
    "2. We also negate the new coordinate. This is because it doesn't make sense to have a new pixel location of $(-1, -1)$. By negating each coordinate, we are translating it back into the first quadrant (all positive coordinates, which correspond to positive matrix/array indices)."
   ]
  },
  {
   "cell_type": "code",
   "execution_count": 49,
   "id": "35f577f1-25ae-4ee1-8fba-1fc95f969a72",
   "metadata": {},
   "outputs": [],
   "source": [
    "def rotate_90(x, y):\n",
    "    # Without the negatives on both of these, these indices will be negative. We want only positive indices.\n",
    "    theta = math.pi/2 # 90º\n",
    "    x_new = -round(x*math.cos(theta) - y*math.sin(theta))\n",
    "    y_new = -round(x*math.sin(theta) + y*math.cos(theta))\n",
    "    return (x_new, y_new)"
   ]
  },
  {
   "cell_type": "markdown",
   "id": "ce5f32c7-12f6-4393-9690-bc1840420e06",
   "metadata": {},
   "source": [
    "Next, we're going to define a blank canvas. The thought process here is that we're going to pluck pixels from our image and plot them on this blank canvas. This is necessary if you're dealing $m$ $*$ $n$ non-square images.\n",
    "\n",
    "Here, we say that the width of our blank canvas is going to be the height of our original image, and the height of our blank canvas is going to be the width of our original image. Can you see why? (Hint: Take a rectangular piece of paper and rotate it 90º.)"
   ]
  },
  {
   "cell_type": "code",
   "execution_count": null,
   "id": "f34a6c6f-8b97-4ec2-a3e2-2e18d992ca14",
   "metadata": {},
   "outputs": [],
   "source": [
    "# Creates a blank canvas with dimensions height x width. This is how the dimensions are once the image is rotated 90º.\n",
    "new_image = Image.new('RGB', (height, width))"
   ]
  },
  {
   "cell_type": "markdown",
   "id": "23d645b6-a8da-4a35-a7f6-061af6b73ce2",
   "metadata": {},
   "source": [
    "We're also going to define two loops. The outer loop will loop in the x direction. The inner loop will iterate in the `y` direction for every value of `x`. This will essentially give us every $(x, y)$ coordinate for every pixel in our image.\n",
    "\n",
    "For every $(x, y)$ pixel coordinate we come across, we are going to perform the rotation of that coordinate by calling the `rotate_90(x, y)` function which will give us the new coordinates of each pixel: $(x_{new}, y_{new})$.\n",
    "\n",
    "`pixel = image.getpixel((x,y))`: This gets the pixel from our image at the point $(x, y)$.\n",
    "\n",
    "`new_image.putpixel((x_new, y_new), pixel)`: This takes that pixel and sticks it in its new position."
   ]
  },
  {
   "cell_type": "code",
   "execution_count": 50,
   "id": "db4f2825-2c55-4d74-b6ca-6b1f5c5b7d62",
   "metadata": {
    "scrolled": true
   },
   "outputs": [],
   "source": [
    "for x in range(width):\n",
    "    for y in range(height):\n",
    "            # Determine new coordinates where pixel will be sent.\n",
    "            # This only works if the angle is 90º. If the angle is 180º, then new_image should be initialized with (width, height) instead.\n",
    "            x_new, y_new = rotate_90(x,y) \n",
    "            # Get pixel at (x, y)\n",
    "            pixel = image.getpixel((x,y))\n",
    "            # Put that pixel in the new position\n",
    "            new_image.putpixel((x_new, y_new), pixel)"
   ]
  },
  {
   "cell_type": "markdown",
   "id": "4fba320f-a9d2-46bc-8d38-cce0ec119f48",
   "metadata": {},
   "source": [
    "Let's see our rotated image!"
   ]
  },
  {
   "cell_type": "code",
   "execution_count": 51,
   "id": "ee5b3743-b7fd-4dd2-94bd-8dac4ea70c3f",
   "metadata": {},
   "outputs": [],
   "source": [
    "new_image.show()"
   ]
  },
  {
   "cell_type": "code",
   "execution_count": null,
   "id": "51600128-20a0-4bee-94fb-aded8058ee3a",
   "metadata": {},
   "outputs": [],
   "source": []
  }
 ],
 "metadata": {
  "kernelspec": {
   "display_name": "Python 3 (ipykernel)",
   "language": "python",
   "name": "python3"
  },
  "language_info": {
   "codemirror_mode": {
    "name": "ipython",
    "version": 3
   },
   "file_extension": ".py",
   "mimetype": "text/x-python",
   "name": "python",
   "nbconvert_exporter": "python",
   "pygments_lexer": "ipython3",
   "version": "3.12.3"
  }
 },
 "nbformat": 4,
 "nbformat_minor": 5
}
